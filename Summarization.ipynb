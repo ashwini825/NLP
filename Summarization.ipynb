{
 "cells": [
  {
   "cell_type": "code",
   "execution_count": 1,
   "metadata": {},
   "outputs": [],
   "source": [
    "import nltk\n",
    "from nltk.corpus import stopwords\n",
    "from nltk.tokenize import word_tokenize, sent_tokenize"
   ]
  },
  {
   "cell_type": "code",
   "execution_count": 2,
   "metadata": {},
   "outputs": [],
   "source": [
    "import bs4 as bs  \n",
    "import urllib.request  \n",
    "from collections import defaultdict\n",
    "import re\n",
    "\n",
    "scraped_data = urllib.request.urlopen('http://www.newindianexpress.com/sport/football/2019/jul/17/india-drawn-with-qatar-in-world-cup-2022-asian-qualifiers-draw-2005307.html?utm_campaign=fullarticle&utm_medium=referral&utm_source=inshorts')  \n",
    "article = scraped_data.read()\n",
    "\n",
    "parsed_article = bs.BeautifulSoup(article,'lxml')\n",
    "\n",
    "paragraphs = parsed_article.find_all('p')\n",
    "\n",
    "article_text = \"\"\n",
    "\n",
    "for p in paragraphs:  \n",
    "    article_text += p.text\n",
    "    \n",
    "# Removing Square Brackets and Extra Spaces\n",
    "article_text = re.sub(r'\\[[0-9]*\\]', ' ', article_text)  \n",
    "article_text = re.sub(r'\\s+', ' ', article_text)\n",
    "\n",
    "# Removing special characters and digits\n",
    "formatted_article_text = re.sub('[^a-zA-Z]', ' ', article_text )  \n",
    "formatted_article_text = re.sub(r'\\s+', ' ', formatted_article_text)\n"
   ]
  },
  {
   "cell_type": "code",
   "execution_count": 3,
   "metadata": {},
   "outputs": [],
   "source": [
    "#text = '''In an interview to India Today, legendary all-rounder Kapil Dev had said the West Indies had more Champagne at the mid-innings break of the 1983 World Cup final than India. Kapil's men had posted a below-par total of 183 in the big final on June 25, 1983 at the Lord's, London.\n",
    "#It seemed India's fairytale run in the World Cup would come to an end. The West Indies were set for a third straight title. Clive Llyod's side had superstars who, on their day, could just blow away the challenge of chasing 184. But June 25, 1983 wasn't their day. It was the day that arguably changed Indian cricket forever.\n",
    "#Gordon Greenidge fails. Sir Vivian Richards walks in with the swagger that is known for. The gum-chewing slayer gets on with his innings and hits a flurry of boundaries.\n",
    "#Madan Lal is under the pump but he isn't willing to go away. He goes to skipper Kapil Dev and asks for the ball. Lal cramps Richards for room but the batting great tries to pull one into the stands. Instead, the ball balloons up and Kapil Dev takes a breathtaking catch to send the West Indies star walking back to the hut.\n",
    "#Once Vivian Richards was dismissed, Indians had their tails up. Clive Lloyd fell to Roger Binny without troubling the scorers much. Jeff Dujon and Malcolm Marshall tried to revive the chase with a 43-run stand for the 7th wicket but Mohinder Amarnath stepped into action and removed both of them in quick succession.\n",
    "#Amarnath dealt the final blow and sealed India's historic win by trapping Michael Holding in front. West Indies were bowled out for 140. Their World Cup-winning streak was broken. Cricket had its new world champions!'''"
   ]
  },
  {
   "cell_type": "code",
   "execution_count": 4,
   "metadata": {},
   "outputs": [],
   "source": [
    "# text ='In an attempt to build an AI-ready workforce, Microsoft announced Intelligent Cloud Hub which has been launched to empower the next generation of students with AI-ready skills. Envisioned as a three-year collaborative program, Intelligent Cloud Hub will support around 100 institutions with AI infrastructure, course content and curriculum, developer support, development tools and give students access to cloud and AI services. As part of the program, the Redmond giant which wants to expand its reach and is planning to build a strong developer ecosystem in India with the program will set up the core AI infrastructure and IoT Hub for the selected campuses. The company will provide AI development tools and Azure AI services such as Microsoft Cognitive Services, Bot Services and Azure Machine Learning.According to Manish Prakash, Country General Manager-PS, Health and Education, Microsoft India, said, \"With AI being the defining technology of our time, it is transforming lives and industry and the jobs of tomorrow will require a different skillset. This will require more collaborations and training and working with AI. That’s why it has become more critical than ever for educational institutions to integrate new cloud and AI technologies. The program is an attempt to ramp up the institutional set-up and build capabilities among the educators to educate the workforce of tomorrow.\" The program aims to build up the cognitive skills and in-depth understanding of developing intelligent cloud connected solutions for applications across industry. Earlier in April this year, the company announced Microsoft Professional Program In AI as a learning track open to the public. The program was developed to provide job ready skills to programmers who wanted to hone their skills in AI and data science with a series of online courses which featured hands-on labs and expert instructors as well. This program also included developer-focused AI school that provided a bunch of assets to help build AI skills.'"
   ]
  },
  {
   "cell_type": "code",
   "execution_count": 5,
   "metadata": {},
   "outputs": [],
   "source": [
    "stopWords = set(stopwords.words(\"english\"))\n",
    "\n",
    "words = word_tokenize(formatted_article_text)\n"
   ]
  },
  {
   "cell_type": "code",
   "execution_count": 6,
   "metadata": {},
   "outputs": [],
   "source": [
    "freqTable = dict()\n",
    "for word in words:\n",
    "    word = word.lower()\n",
    "    if word in stopWords:\n",
    "        continue\n",
    "    if word in freqTable:\n",
    "        freqTable[word] += 1\n",
    "        \n",
    "    else:\n",
    "        freqTable[word] = 1   \n"
   ]
  },
  {
   "cell_type": "code",
   "execution_count": 7,
   "metadata": {},
   "outputs": [
    {
     "data": {
      "text/plain": [
       "['The eight group winners and four best runners up will advance to the final round of World Cup qualifiers and the AFC Asian Cup Finals to be held in China Published th July PM Last Updated th July PM A A A India get comparatively easy draw Twitter IndianFootballKUALA LUMPUR The Indian football team was Wednesday handed a comparatively easy draw for the World Cup second round Asian qualifiers being clubbed with Qatar Oman Afghanistan and Bangladesh in Group E The Asian countries were divided into eight groups of five teams each in the draw held at the Asian Football Confederation headquarters here All the teams in each group will play home and away round robin matches starting from September The eight group winners and four best runners up will advance to the final round of World Cup qualifiers and the AFC Asian Cup Finals to be held in China The next best teams from the second round of the joint qualifiers will compete in a separate competition for the remaining slots in the team AFC Asian Cup India avoided the big guns from Pot like Iran Japan Korea Australia and Saudi Arabia but drew Asian Cup champions Qatar India were also not drawn alongside bigger teams from Pot like Iraq and Uzbekistan India can beat the likes of Afghanistan and Bangladesh and will hope to play their best against Oman as well as World Cup hosts Qatar if they have to advance to the final round of the qualifiers Interestingly India were also drawn along with Oman in the second round qualifiers of the World Cup The Arab nation beat India in Bengaluru and in Muscat in But the latest clash between the two sides just before the Asian Cup had ended in a goal less draw in Abu Dhabi last December India head coach Igor Stimac termed the draw a very tough challenge It will be an enormous challenge for your young team We have been drawn into a very tough group Stimac said Without singling out any team Stimac said that we need to respect every opposition We need to respect everyone not only teams from Pot and Pot but even teams from Pot and Pot The Intercontinental Cup showed to all how strange a game of football is The two teams which are playing the final Tajikistan and DPR Korea are the lowest FIFA ranked teams in the tournament That shows that everyone can beat everyone he said I will teach the team to respect the opposition but when we step on to the pitch we will do everything to win That is the way I am going to prepare my team We are just at the beginning of our journey I hope that it will be a long one he added Wednesday s draw was conducted by FIFA Director of Competitions Christian Unger and Australian legend Tim Cahill Asia s top ranked side Iran who will be aiming for a third consecutive World Cup appearance were pooled in Group C alongside Iraq Bahrain Hong Kong and Cambodia Japan Asia s best performers in the FIFA World Cup where they were defeated by Belgium in the Round of were drawn in Group F with Kyrgyz Republic Tajikistan Myanmar and Mongolia Korea Republic who have appeared in every edition of the FIFA World Cup Finals since will have Lebanon DPR Korea Turkmenistan and Sri Lanka in Group H of the Asian Qualifiers Saudi Arabia will face Uzbekistan Palestine Yemen and Singapore in Group D while Australia will go up against Jordan Chinese Taipei Kuwait and Nepal in Group B China the host country for the AFC Asian Cup will have to navigate past Syria Philippines Maldives and Guam in Group A in their bid for a second appearance in the FIFA World Cup Finals O P E NDisclaimer We respect your thoughts and views But we need to be judicious while moderating your comments All the comments will be moderated by the newindianexpress com editorial Abstain from posting comments that are obscene defamatory or inflammatory and do not indulge in personal attacks Try to avoid outside hyperlinks inside the comment Help us delete comments that do not follow these guidelines The views expressed in comments published on newindianexpress com are those of the comment writers alone They do not represent the views or opinions of newindianexpress com or its staff nor do they represent the views or opinions of The New Indian Express Group or any entity of or affiliated with The New Indian Express Group newindianexpress com reserves the right to take any or all comments down at any time Congress top leadership meets to find new party chief Rahul bats for wider consultations UAE issues advisory against travel to Kerala due to floods As LoC tension mounts over a dozen terror camps reactivated in PoK Reports Northern Army Commander urges troops in Ladakh to live up to motto of Nation First Prohibitory orders lifted in five J K districts schools colleges reopen year old Meghalaya girl raped in GurugramCopyright newindianexpress com The Morning Standard Dinamani Kannada Prabha Samakalika Malayalam Indulgexpress Edex Live Cinema Express Event Xpress Contact Us About Us Careers Privacy Policy Search Terms of Use Advertise With Us Home Nation World Cities Business Columns Entertainment Sport Magazine The Sunday Standard']"
      ]
     },
     "execution_count": 7,
     "metadata": {},
     "output_type": "execute_result"
    }
   ],
   "source": [
    "sentences = sent_tokenize(formatted_article_text)\n",
    "sentenceValue = dict()\n",
    "sentences"
   ]
  },
  {
   "cell_type": "code",
   "execution_count": 8,
   "metadata": {},
   "outputs": [],
   "source": [
    "# sentences"
   ]
  },
  {
   "cell_type": "code",
   "execution_count": 9,
   "metadata": {},
   "outputs": [],
   "source": [
    "# freqTable"
   ]
  },
  {
   "cell_type": "code",
   "execution_count": 10,
   "metadata": {},
   "outputs": [],
   "source": [
    "# sentences[0][:12]"
   ]
  },
  {
   "cell_type": "code",
   "execution_count": 11,
   "metadata": {},
   "outputs": [],
   "source": [
    "# len(sentences)"
   ]
  },
  {
   "cell_type": "code",
   "execution_count": 12,
   "metadata": {},
   "outputs": [
    {
     "name": "stdout",
     "output_type": "stream",
     "text": [
      "['The eight group winners and four best runners up will advance to the final round of World Cup qualifiers and the AFC Asian Cup Finals to be held in China Published th July PM Last Updated th July PM A A A India get comparatively easy draw Twitter IndianFootballKUALA LUMPUR The Indian football team was Wednesday handed a comparatively easy draw for the World Cup second round Asian qualifiers being clubbed with Qatar Oman Afghanistan and Bangladesh in Group E The Asian countries were divided into eight groups of five teams each in the draw held at the Asian Football Confederation headquarters here All the teams in each group will play home and away round robin matches starting from September The eight group winners and four best runners up will advance to the final round of World Cup qualifiers and the AFC Asian Cup Finals to be held in China The next best teams from the second round of the joint qualifiers will compete in a separate competition for the remaining slots in the team AFC Asian Cup India avoided the big guns from Pot like Iran Japan Korea Australia and Saudi Arabia but drew Asian Cup champions Qatar India were also not drawn alongside bigger teams from Pot like Iraq and Uzbekistan India can beat the likes of Afghanistan and Bangladesh and will hope to play their best against Oman as well as World Cup hosts Qatar if they have to advance to the final round of the qualifiers Interestingly India were also drawn along with Oman in the second round qualifiers of the World Cup The Arab nation beat India in Bengaluru and in Muscat in But the latest clash between the two sides just before the Asian Cup had ended in a goal less draw in Abu Dhabi last December India head coach Igor Stimac termed the draw a very tough challenge It will be an enormous challenge for your young team We have been drawn into a very tough group Stimac said Without singling out any team Stimac said that we need to respect every opposition We need to respect everyone not only teams from Pot and Pot but even teams from Pot and Pot The Intercontinental Cup showed to all how strange a game of football is The two teams which are playing the final Tajikistan and DPR Korea are the lowest FIFA ranked teams in the tournament That shows that everyone can beat everyone he said I will teach the team to respect the opposition but when we step on to the pitch we will do everything to win That is the way I am going to prepare my team We are just at the beginning of our journey I hope that it will be a long one he added Wednesday s draw was conducted by FIFA Director of Competitions Christian Unger and Australian legend Tim Cahill Asia s top ranked side Iran who will be aiming for a third consecutive World Cup appearance were pooled in Group C alongside Iraq Bahrain Hong Kong and Cambodia Japan Asia s best performers in the FIFA World Cup where they were defeated by Belgium in the Round of were drawn in Group F with Kyrgyz Republic Tajikistan Myanmar and Mongolia Korea Republic who have appeared in every edition of the FIFA World Cup Finals since will have Lebanon DPR Korea Turkmenistan and Sri Lanka in Group H of the Asian Qualifiers Saudi Arabia will face Uzbekistan Palestine Yemen and Singapore in Group D while Australia will go up against Jordan Chinese Taipei Kuwait and Nepal in Group B China the host country for the AFC Asian Cup will have to navigate past Syria Philippines Maldives and Guam in Group A in their bid for a second appearance in the FIFA World Cup Finals O P E NDisclaimer We respect your thoughts and views But we need to be judicious while moderating your comments All the comments will be moderated by the newindianexpress com editorial Abstain from posting comments that are obscene defamatory or inflammatory and do not indulge in personal attacks Try to avoid outside hyperlinks inside the comment Help us delete comments that do not follow these guidelines The views expressed in comments published on newindianexpress com are those of the comment writers alone They do not represent the views or opinions of newindianexpress com or its staff nor do they represent the views or opinions of The New Indian Express Group or any entity of or affiliated with The New Indian Express Group newindianexpress com reserves the right to take any or all comments down at any time Congress top leadership meets to find new party chief Rahul bats for wider consultations UAE issues advisory against travel to Kerala due to floods As LoC tension mounts over a dozen terror camps reactivated in PoK Reports Northern Army Commander urges troops in Ladakh to live up to motto of Nation First Prohibitory orders lifted in five J K districts schools colleges reopen year old Meghalaya girl raped in GurugramCopyright newindianexpress com The Morning Standard Dinamani Kannada Prabha Samakalika Malayalam Indulgexpress Edex Live Cinema Express Event Xpress Contact Us About Us Careers Privacy Policy Search Terms of Use Advertise With Us Home Nation World Cities Business Columns Entertainment Sport Magazine The Sunday Standard']\n"
     ]
    }
   ],
   "source": [
    "for sentence in sentences:\n",
    "    for word, freq in freqTable.items():\n",
    "        if word in sentence.lower():\n",
    "            if sentence in sentenceValue:\n",
    "                sentenceValue[sentence] += freq\n",
    "            else:\n",
    "                sentenceValue[sentence] = freq\n",
    "                \n",
    "print(sentences)"
   ]
  },
  {
   "cell_type": "code",
   "execution_count": 13,
   "metadata": {},
   "outputs": [],
   "source": [
    "# sentenceValue"
   ]
  },
  {
   "cell_type": "code",
   "execution_count": 14,
   "metadata": {},
   "outputs": [
    {
     "data": {
      "text/plain": [
       "537"
      ]
     },
     "execution_count": 14,
     "metadata": {},
     "output_type": "execute_result"
    }
   ],
   "source": [
    "sumValues = 0\n",
    "for sentence in sentenceValue:\n",
    "    sumValues += sentenceValue[sentence]\n",
    "\n",
    "average = int(sumValues/ len(sentenceValue))\n",
    "average"
   ]
  },
  {
   "cell_type": "code",
   "execution_count": 15,
   "metadata": {},
   "outputs": [
    {
     "name": "stdout",
     "output_type": "stream",
     "text": [
      "The eight group winners and four best runners up will advance to the final round of World Cup qualifiers and the AFC Asian Cup Finals to be held in China Published th July PM Last Updated th July PM A A A India get comparatively easy draw Twitter IndianFootballKUALA LUMPUR The Indian football team was Wednesday handed a comparatively easy draw for the World Cup second round Asian qualifiers being clubbed with Qatar Oman Afghanistan and Bangladesh in Group E The Asian countries were divided into eight groups of five teams each in the draw held at the Asian Football Confederation headquarters here All the teams in each group will play home and away round robin matches starting from September The eight group winners and four best runners up will advance to the final round of World Cup qualifiers and the AFC Asian Cup Finals to be held in China The next best teams from the second round of the joint qualifiers will compete in a separate competition for the remaining slots in the team AFC Asian Cup India avoided the big guns from Pot like Iran Japan Korea Australia and Saudi Arabia but drew Asian Cup champions Qatar India were also not drawn alongside bigger teams from Pot like Iraq and Uzbekistan India can beat the likes of Afghanistan and Bangladesh and will hope to play their best against Oman as well as World Cup hosts Qatar if they have to advance to the final round of the qualifiers Interestingly India were also drawn along with Oman in the second round qualifiers of the World Cup The Arab nation beat India in Bengaluru and in Muscat in But the latest clash between the two sides just before the Asian Cup had ended in a goal less draw in Abu Dhabi last December India head coach Igor Stimac termed the draw a very tough challenge It will be an enormous challenge for your young team We have been drawn into a very tough group Stimac said Without singling out any team Stimac said that we need to respect every opposition We need to respect everyone not only teams from Pot and Pot but even teams from Pot and Pot The Intercontinental Cup showed to all how strange a game of football is The two teams which are playing the final Tajikistan and DPR Korea are the lowest FIFA ranked teams in the tournament That shows that everyone can beat everyone he said I will teach the team to respect the opposition but when we step on to the pitch we will do everything to win That is the way I am going to prepare my team We are just at the beginning of our journey I hope that it will be a long one he added Wednesday s draw was conducted by FIFA Director of Competitions Christian Unger and Australian legend Tim Cahill Asia s top ranked side Iran who will be aiming for a third consecutive World Cup appearance were pooled in Group C alongside Iraq Bahrain Hong Kong and Cambodia Japan Asia s best performers in the FIFA World Cup where they were defeated by Belgium in the Round of were drawn in Group F with Kyrgyz Republic Tajikistan Myanmar and Mongolia Korea Republic who have appeared in every edition of the FIFA World Cup Finals since will have Lebanon DPR Korea Turkmenistan and Sri Lanka in Group H of the Asian Qualifiers Saudi Arabia will face Uzbekistan Palestine Yemen and Singapore in Group D while Australia will go up against Jordan Chinese Taipei Kuwait and Nepal in Group B China the host country for the AFC Asian Cup will have to navigate past Syria Philippines Maldives and Guam in Group A in their bid for a second appearance in the FIFA World Cup Finals O P E NDisclaimer We respect your thoughts and views But we need to be judicious while moderating your comments All the comments will be moderated by the newindianexpress com editorial Abstain from posting comments that are obscene defamatory or inflammatory and do not indulge in personal attacks Try to avoid outside hyperlinks inside the comment Help us delete comments that do not follow these guidelines The views expressed in comments published on newindianexpress com are those of the comment writers alone They do not represent the views or opinions of newindianexpress com or its staff nor do they represent the views or opinions of The New Indian Express Group or any entity of or affiliated with The New Indian Express Group newindianexpress com reserves the right to take any or all comments down at any time Congress top leadership meets to find new party chief Rahul bats for wider consultations UAE issues advisory against travel to Kerala due to floods As LoC tension mounts over a dozen terror camps reactivated in PoK Reports Northern Army Commander urges troops in Ladakh to live up to motto of Nation First Prohibitory orders lifted in five J K districts schools colleges reopen year old Meghalaya girl raped in GurugramCopyright newindianexpress com The Morning Standard Dinamani Kannada Prabha Samakalika Malayalam Indulgexpress Edex Live Cinema Express Event Xpress Contact Us About Us Careers Privacy Policy Search Terms of Use Advertise With Us Home Nation World Cities Business Columns Entertainment Sport Magazine The Sunday Standard\n"
     ]
    }
   ],
   "source": [
    "import heapq\n",
    "summary_sentences = heapq.nlargest(4, sentenceValue, key=sentenceValue.get)\n",
    "\n",
    "\n",
    "summary = ' '.join(summary_sentences)\n",
    "print(summary)\n"
   ]
  },
  {
   "cell_type": "code",
   "execution_count": 16,
   "metadata": {},
   "outputs": [
    {
     "name": "stdout",
     "output_type": "stream",
     "text": [
      "The eight group winners and four best runners up will advance to the final round of World Cup qualifiers and the AFC Asian Cup Finals to be held in China Published th July PM Last Updated th July PM A A A India get comparatively easy draw Twitter IndianFootballKUALA LUMPUR The Indian football team was Wednesday handed a comparatively easy draw for the World Cup second round Asian qualifiers being clubbed with Qatar Oman Afghanistan and Bangladesh in Group E The Asian countries were divided into eight groups of five teams each in the draw held at the Asian Football Confederation headquarters here All the teams in each group will play home and away round robin matches starting from September The eight group winners and four best runners up will advance to the final round of World Cup qualifiers and the AFC Asian Cup Finals to be held in China The next best teams from the second round of the joint qualifiers will compete in a separate competition for the remaining slots in the team AFC Asian Cup India avoided the big guns from Pot like Iran Japan Korea Australia and Saudi Arabia but drew Asian Cup champions Qatar India were also not drawn alongside bigger teams from Pot like Iraq and Uzbekistan India can beat the likes of Afghanistan and Bangladesh and will hope to play their best against Oman as well as World Cup hosts Qatar if they have to advance to the final round of the qualifiers Interestingly India were also drawn along with Oman in the second round qualifiers of the World Cup The Arab nation beat India in Bengaluru and in Muscat in But the latest clash between the two sides just before the Asian Cup had ended in a goal less draw in Abu Dhabi last December India head coach Igor Stimac termed the draw a very tough challenge It will be an enormous challenge for your young team We have been drawn into a very tough group Stimac said Without singling out any team Stimac said that we need to respect every opposition We need to respect everyone not only teams from Pot and Pot but even teams from Pot and Pot The Intercontinental Cup showed to all how strange a game of football is The two teams which are playing the final Tajikistan and DPR Korea are the lowest FIFA ranked teams in the tournament That shows that everyone can beat everyone he said I will teach the team to respect the opposition but when we step on to the pitch we will do everything to win That is the way I am going to prepare my team We are just at the beginning of our journey I hope that it will be a long one he added Wednesday s draw was conducted by FIFA Director of Competitions Christian Unger and Australian legend Tim Cahill Asia s top ranked side Iran who will be aiming for a third consecutive World Cup appearance were pooled in Group C alongside Iraq Bahrain Hong Kong and Cambodia Japan Asia s best performers in the FIFA World Cup where they were defeated by Belgium in the Round of were drawn in Group F with Kyrgyz Republic Tajikistan Myanmar and Mongolia Korea Republic who have appeared in every edition of the FIFA World Cup Finals since will have Lebanon DPR Korea Turkmenistan and Sri Lanka in Group H of the Asian Qualifiers Saudi Arabia will face Uzbekistan Palestine Yemen and Singapore in Group D while Australia will go up against Jordan Chinese Taipei Kuwait and Nepal in Group B China the host country for the AFC Asian Cup will have to navigate past Syria Philippines Maldives and Guam in Group A in their bid for a second appearance in the FIFA World Cup Finals O P E NDisclaimer We respect your thoughts and views But we need to be judicious while moderating your comments All the comments will be moderated by the newindianexpress com editorial Abstain from posting comments that are obscene defamatory or inflammatory and do not indulge in personal attacks Try to avoid outside hyperlinks inside the comment Help us delete comments that do not follow these guidelines The views expressed in comments published on newindianexpress com are those of the comment writers alone They do not represent the views or opinions of newindianexpress com or its staff nor do they represent the views or opinions of The New Indian Express Group or any entity of or affiliated with The New Indian Express Group newindianexpress com reserves the right to take any or all comments down at any time Congress top leadership meets to find new party chief Rahul bats for wider consultations UAE issues advisory against travel to Kerala due to floods As LoC tension mounts over a dozen terror camps reactivated in PoK Reports Northern Army Commander urges troops in Ladakh to live up to motto of Nation First Prohibitory orders lifted in five J K districts schools colleges reopen year old Meghalaya girl raped in GurugramCopyright newindianexpress com The Morning Standard Dinamani Kannada Prabha Samakalika Malayalam Indulgexpress Edex Live Cinema Express Event Xpress Contact Us About Us Careers Privacy Policy Search Terms of Use Advertise With Us Home Nation World Cities Business Columns Entertainment Sport Magazine The Sunday Standard\n"
     ]
    }
   ],
   "source": [
    "print(summary)"
   ]
  },
  {
   "cell_type": "code",
   "execution_count": null,
   "metadata": {},
   "outputs": [],
   "source": []
  },
  {
   "cell_type": "code",
   "execution_count": null,
   "metadata": {},
   "outputs": [],
   "source": []
  },
  {
   "cell_type": "code",
   "execution_count": null,
   "metadata": {},
   "outputs": [],
   "source": []
  }
 ],
 "metadata": {
  "kernelspec": {
   "display_name": "Python 3",
   "language": "python",
   "name": "python3"
  },
  "language_info": {
   "codemirror_mode": {
    "name": "ipython",
    "version": 3
   },
   "file_extension": ".py",
   "mimetype": "text/x-python",
   "name": "python",
   "nbconvert_exporter": "python",
   "pygments_lexer": "ipython3",
   "version": "3.7.1"
  }
 },
 "nbformat": 4,
 "nbformat_minor": 2
}
